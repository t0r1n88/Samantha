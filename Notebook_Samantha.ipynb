{
 "cells": [
  {
   "cell_type": "code",
   "execution_count": 41,
   "id": "273baae5",
   "metadata": {},
   "outputs": [],
   "source": [
    "from docx import Document\n",
    "import pandas as pd\n",
    "import openpyxl\n",
    "from openpyxl.utils.dataframe import dataframe_to_rows\n",
    "import time\n",
    "import re\n",
    "from openpyxl.styles import Font\n",
    "from openpyxl.styles import Alignment\n",
    "import os"
   ]
  },
  {
   "cell_type": "code",
   "execution_count": 42,
   "id": "37c217bb",
   "metadata": {},
   "outputs": [],
   "source": [
    "path_to_file = 'data/БРИТ/БРИТ Госзадание №1 2022.xlsx'\n",
    "name_spo = 'БРИТ'\n"
   ]
  },
  {
   "cell_type": "code",
   "execution_count": 43,
   "id": "b0189166",
   "metadata": {},
   "outputs": [],
   "source": [
    "df_1 = pd.read_excel(path_to_file)"
   ]
  },
  {
   "cell_type": "code",
   "execution_count": 44,
   "id": "74a03bb5",
   "metadata": {},
   "outputs": [],
   "source": [
    "# Создаем мультииндекс и \n",
    "ml_1 = df_1[['Наименование государственной услуги','Категория потребителей государственной услуги',\n",
    "                                       'Уникальный номер реестровой записи','Профессии и специальности по программам среднего профессионального образования']]\n",
    "\n",
    "data_1 = df_1[['Категория потребителей','Формы образования и формы реализации образовательных программ','Госзадание №1']]\n",
    "\n",
    "ml_df1 = pd.MultiIndex.from_frame(ml_1,names=['Наименование государственной услуги','Категория потребителей государственной услуги',\n",
    "                                       'Уникальный номер реестровой записи','Профессии и специальности по программам среднего профессионального образования'])\n",
    "\n",
    "data_1.index = ml_df1"
   ]
  },
  {
   "cell_type": "code",
   "execution_count": 46,
   "id": "0bb3dcdc",
   "metadata": {},
   "outputs": [],
   "source": [
    "df_2 = pd.read_excel('data/БРИТ/БРИТ Госзадание №2 2022.xlsx')"
   ]
  },
  {
   "cell_type": "code",
   "execution_count": 47,
   "id": "b461bfb5",
   "metadata": {},
   "outputs": [],
   "source": [
    "# Создаем мультииндекс и \n",
    "ml_2 = df_2[['Наименование государственной услуги','Категория потребителей государственной услуги',\n",
    "                                       'Уникальный номер реестровой записи','Профессии и специальности по программам среднего профессионального образования']]\n",
    "\n",
    "data_2 = df_2[['Госзадание №2']]\n",
    "\n",
    "ml_df2 = pd.MultiIndex.from_frame(ml_2,names=['Наименование государственной услуги','Категория потребителей государственной услуги',\n",
    "                                       'Уникальный номер реестровой записи','Профессии и специальности по программам среднего профессионального образования'])\n",
    "\n",
    "data_2.index = ml_df2"
   ]
  },
  {
   "cell_type": "code",
   "execution_count": null,
   "id": "e1cbcab8",
   "metadata": {},
   "outputs": [],
   "source": [
    "temp = pd.DataFrame()"
   ]
  },
  {
   "cell_type": "code",
   "execution_count": null,
   "id": "585834a5",
   "metadata": {},
   "outputs": [],
   "source": []
  },
  {
   "cell_type": "code",
   "execution_count": 49,
   "id": "5e93a42c",
   "metadata": {},
   "outputs": [],
   "source": [
    "gos_zad_df=pd.concat([data_1,data_2],axis=1,join='outer')"
   ]
  },
  {
   "cell_type": "code",
   "execution_count": 51,
   "id": "88bec4f8",
   "metadata": {},
   "outputs": [],
   "source": [
    "gos_report = pd.read_excel('data/БРИТ/БРИТ Госзадание Отчет 2022.xlsx')"
   ]
  },
  {
   "cell_type": "code",
   "execution_count": 52,
   "id": "81391af7",
   "metadata": {},
   "outputs": [],
   "source": [
    "# Создаем мультииндекс\n",
    "ml_report_df = gos_report[['Наименование государственной услуги','Категория потребителей государственной услуги',\n",
    "                                       'Уникальный номер реестровой записи','Профессии и специальности по программам среднего профессионального образования']]\n",
    "\n",
    "data_report = gos_report[['исполнено на отчетную дату','причина отклонения']]\n",
    "\n",
    "ml_report = pd.MultiIndex.from_frame(ml_report_df,names=['Наименование государственной услуги','Категория потребителей государственной услуги',\n",
    "                                       'Уникальный номер реестровой записи','Профессии и специальности по программам среднего профессионального образования'])\n",
    "\n",
    "data_report.index = ml_report"
   ]
  },
  {
   "cell_type": "code",
   "execution_count": 54,
   "id": "b0db7d1a",
   "metadata": {},
   "outputs": [],
   "source": [
    "itog_df = pd.concat([gos_zad_df,data_report],axis=1,join='outer')"
   ]
  },
  {
   "cell_type": "code",
   "execution_count": 55,
   "id": "9672433f",
   "metadata": {},
   "outputs": [],
   "source": [
    "itog_df['Отклонение в абсолютных единицах'] = (itog_df['Госзадание №2']-itog_df['исполнено на отчетную дату']).abs()"
   ]
  },
  {
   "cell_type": "code",
   "execution_count": 56,
   "id": "d370ac1b",
   "metadata": {},
   "outputs": [],
   "source": [
    "itog_df['Отклонение в процентах'] = (itog_df['Отклонение в абсолютных единицах'] * 100 / itog_df['Госзадание №2']).round(2)"
   ]
  },
  {
   "cell_type": "code",
   "execution_count": 57,
   "id": "05495296",
   "metadata": {},
   "outputs": [],
   "source": [
    "itog_df['Отклонение больше 5%'] =  itog_df['Отклонение в процентах'].apply(lambda x: 'Да'if x >5 else 'Нет')"
   ]
  },
  {
   "cell_type": "code",
   "execution_count": 58,
   "id": "a3ad5c2a",
   "metadata": {},
   "outputs": [],
   "source": [
    "itog_df['Отклонение в процентах'] = itog_df['Отклонение в процентах'].astype(str) + '%'"
   ]
  },
  {
   "cell_type": "code",
   "execution_count": 59,
   "id": "2de2251e",
   "metadata": {},
   "outputs": [],
   "source": [
    "itog_df = itog_df.reset_index()"
   ]
  },
  {
   "cell_type": "code",
   "execution_count": 60,
   "id": "89553ada",
   "metadata": {},
   "outputs": [],
   "source": [
    "itog_df.insert(0,'Наименование ПОО',name_spo)"
   ]
  },
  {
   "cell_type": "code",
   "execution_count": 61,
   "id": "974e289c",
   "metadata": {},
   "outputs": [],
   "source": [
    "itog_df.to_excel('Итог.xlsx',index=False)"
   ]
  },
  {
   "cell_type": "code",
   "execution_count": null,
   "id": "8dad2f94",
   "metadata": {},
   "outputs": [],
   "source": []
  },
  {
   "cell_type": "code",
   "execution_count": null,
   "id": "f8f3adea",
   "metadata": {},
   "outputs": [],
   "source": []
  }
 ],
 "metadata": {
  "kernelspec": {
   "display_name": "Python 3 (ipykernel)",
   "language": "python",
   "name": "python3"
  },
  "language_info": {
   "codemirror_mode": {
    "name": "ipython",
    "version": 3
   },
   "file_extension": ".py",
   "mimetype": "text/x-python",
   "name": "python",
   "nbconvert_exporter": "python",
   "pygments_lexer": "ipython3",
   "version": "3.9.13"
  }
 },
 "nbformat": 4,
 "nbformat_minor": 5
}
