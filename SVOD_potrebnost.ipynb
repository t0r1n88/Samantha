{
 "cells": [
  {
   "cell_type": "code",
   "execution_count": 237,
   "id": "f5925dd9",
   "metadata": {},
   "outputs": [
    {
     "data": {
      "text/plain": [
       "'\\nСкрипт для подсчета потребностей по кодам\\n'"
      ]
     },
     "execution_count": 237,
     "metadata": {},
     "output_type": "execute_result"
    }
   ],
   "source": [
    "\"\"\"\n",
    "Скрипт для подсчета потребностей по кодам\n",
    "\"\"\""
   ]
  },
  {
   "cell_type": "code",
   "execution_count": 238,
   "id": "8c6e4c59",
   "metadata": {},
   "outputs": [],
   "source": [
    "import pandas as pd\n",
    "import openpyxl\n",
    "from openpyxl.utils.dataframe import dataframe_to_rows\n",
    "import time\n"
   ]
  },
  {
   "cell_type": "code",
   "execution_count": 239,
   "id": "96794f23",
   "metadata": {},
   "outputs": [],
   "source": [
    "data_file = 'data/Свод.xlsx'\n",
    "path_end_folder = 'data'"
   ]
  },
  {
   "cell_type": "code",
   "execution_count": 240,
   "id": "6464fc55",
   "metadata": {},
   "outputs": [],
   "source": [
    "df = pd.read_excel(data_file)"
   ]
  },
  {
   "cell_type": "code",
   "execution_count": 242,
   "id": "189edf4e",
   "metadata": {},
   "outputs": [],
   "source": [
    "df.columns = ['Код','Наименование','Потребность','ПОО','Заявка','Баллы']"
   ]
  },
  {
   "cell_type": "code",
   "execution_count": 243,
   "id": "b332a969",
   "metadata": {},
   "outputs": [],
   "source": [
    "df['Наименование'] = df['Наименование'].astype(str) # очищаем от пробелов\n",
    "df['Наименование'] = df['Наименование'].apply(lambda x:x.strip())\n"
   ]
  },
  {
   "cell_type": "code",
   "execution_count": 244,
   "id": "0c9695e9",
   "metadata": {},
   "outputs": [],
   "source": [
    "df['Код'] = df['Код'].astype(str) # очищаем от пробелов\n",
    "df['Код'] = df['Код'].apply(lambda x:x.strip())\n",
    "df['Код'] = df['Код'].apply(lambda x:x.replace('?',''))"
   ]
  },
  {
   "cell_type": "code",
   "execution_count": 245,
   "id": "8df87845",
   "metadata": {},
   "outputs": [],
   "source": [
    "lst_code = df['Код'].unique()"
   ]
  },
  {
   "cell_type": "code",
   "execution_count": 246,
   "id": "63d8e977",
   "metadata": {},
   "outputs": [],
   "source": [
    "lst_code = [value for value in lst_code if value != 'nan'] # убираеим лишнее\n",
    "lst_code = [value for value in lst_code if value != 'код']\n"
   ]
  },
  {
   "cell_type": "code",
   "execution_count": 248,
   "id": "1a6045b3",
   "metadata": {},
   "outputs": [],
   "source": [
    "lst_code.sort()"
   ]
  },
  {
   "cell_type": "code",
   "execution_count": 249,
   "id": "0e3e416c",
   "metadata": {},
   "outputs": [],
   "source": [
    "# создаем файл экселя\n",
    "wb = openpyxl.Workbook()\n",
    "for idx,code_spec in enumerate(lst_code):\n",
    "    if code_spec:\n",
    "        wb.create_sheet(title=code_spec,index=idx)\n"
   ]
  },
  {
   "cell_type": "code",
   "execution_count": 250,
   "id": "64980b89",
   "metadata": {},
   "outputs": [
    {
     "name": "stdout",
     "output_type": "stream",
     "text": [
      "08.01.24\n",
      "08.01.25 (08.01.28)\n",
      "08.01.27\n",
      "08.01.28\n",
      "08.01.29\n",
      "08.01.31\n",
      "08.02.01\n",
      "08.02.09\n",
      "08.02.12\n",
      "08.02.13\n",
      "08.02.14\n",
      "09.01.03\n",
      "09.02.06\n",
      "09.02.07\n",
      "10.02.05\n",
      "11.02.16\n",
      "13.01.10\n",
      "13.02.01\n",
      "13.02.03\n",
      "13.02.07\n",
      "13.02.09\n",
      "13.02.11\n",
      "15.01.05\n",
      "15.01.31\n",
      "15.01.32\n",
      "15.01.33\n",
      "15.01.35\n",
      "15.02.10\n",
      "15.02.12\n",
      "15.02.14\n",
      "15.02.16\n",
      "16675\n",
      "18.01.33\n",
      "18880\n",
      "19.01.18\n",
      "19.01.19\n",
      "19.02.11\n",
      "19.02.12\n",
      "19.02.13\n",
      "19.02.15\n",
      "21.01.08\n",
      "21.02.19\n",
      "21.02.20\n",
      "23.01.06\n",
      "23.01.07\n",
      "23.01.09\n",
      "23.01.10\n",
      "23.01.17\n",
      "23.01.17.\n",
      "23.02.01\n",
      "23.02.04\n",
      "23.02.06\n",
      "23.02.07\n",
      "24.01.01\n",
      "24.02.01\n",
      "25.02.06\n",
      "27.02.07\n",
      "29.01.33\n",
      "29.02.10\n",
      "31.02.01\n",
      "31.02.02\n",
      "31.02.03\n",
      "34.02.01\n",
      "35.01.01\n",
      "35.01.25\n",
      "35.01.26\n",
      "35.01.27\n",
      "35.01.27.\n",
      "35.02.01\n",
      "35.02.02\n",
      "35.02.03\n",
      "35.02.04\n",
      "35.02.05\n",
      "35.02.08\n",
      "35.02.12\n",
      "35.02.16\n",
      "36.02.01\n",
      "36.02.02\n",
      "38.01.02\n",
      "38.02.01\n",
      "38.02.03\n",
      "38.02.04\n",
      "39.02.01\n",
      "43.01.01\n",
      "43.01.06\n",
      "43.01.09\n",
      "43.02.06\n",
      "43.02.15\n",
      "43.02.16\n",
      "43.02.17\n",
      "44.02.01\n",
      "44.02.02\n",
      "44.02.03\n",
      "49.02.01\n",
      "51.02.01\n",
      "51.02.02\n",
      "52.02.01\n",
      "52.02.02\n",
      "53.02.01\n",
      "53.02.02\n",
      "53.02.03\n",
      "53.02.04\n",
      "53.02.05\n",
      "53.02.06\n",
      "53.02.07\n",
      "54.01.01\n",
      "54.01.06\n",
      "54.01.13\n",
      "54.01.20\n",
      "54.02.01\n",
      "54.02.02\n",
      "54.02.05\n",
      "54.02.06\n"
     ]
    },
    {
     "name": "stderr",
     "output_type": "stream",
     "text": [
      "C:\\Users\\1\\AppData\\Local\\Temp\\ipykernel_22312\\1381830610.py:4: SettingWithCopyWarning: \n",
      "A value is trying to be set on a copy of a slice from a DataFrame\n",
      "\n",
      "See the caveats in the documentation: https://pandas.pydata.org/pandas-docs/stable/user_guide/indexing.html#returning-a-view-versus-a-copy\n",
      "  temp_df.sort_values(by='Баллы',ascending=False,inplace=True)\n"
     ]
    }
   ],
   "source": [
    "for code in lst_code:\n",
    "    temp_df = df[df['Код'] == code]\n",
    "    print(code)\n",
    "    temp_df.sort_values(by='Баллы',ascending=False,inplace=True)\n",
    "    for r in dataframe_to_rows(temp_df,header=True,index=False):\n",
    "        wb[code].append(r)\n",
    "    wb[code].column_dimensions['A'].width = 10\n",
    "    wb[code].column_dimensions['B'].width = 60\n",
    "    wb[code].column_dimensions['C'].width = 10\n",
    "    wb[code].column_dimensions['D'].width = 70\n",
    "    wb[code].column_dimensions['E'].width = 20\n",
    "    wb[code].column_dimensions['F'].width = 20\n",
    "\n",
    "    \n",
    "    \n",
    "    "
   ]
  },
  {
   "cell_type": "code",
   "execution_count": 251,
   "id": "29977b2d",
   "metadata": {},
   "outputs": [],
   "source": [
    "t = time.localtime()\n",
    "current_time = time.strftime('%H_%M_%S',t)"
   ]
  },
  {
   "cell_type": "code",
   "execution_count": null,
   "id": "6489aa8a",
   "metadata": {},
   "outputs": [],
   "source": []
  },
  {
   "cell_type": "code",
   "execution_count": null,
   "id": "f0e5489f",
   "metadata": {},
   "outputs": [],
   "source": []
  },
  {
   "cell_type": "code",
   "execution_count": 252,
   "id": "6bb9ed50",
   "metadata": {},
   "outputs": [],
   "source": [
    "wb.save(f'{path_end_folder}/Свод заявок по ПОО {current_time}.xlsx')"
   ]
  },
  {
   "cell_type": "code",
   "execution_count": null,
   "id": "001c68fb",
   "metadata": {},
   "outputs": [],
   "source": []
  },
  {
   "cell_type": "code",
   "execution_count": null,
   "id": "a7643766",
   "metadata": {},
   "outputs": [],
   "source": []
  },
  {
   "cell_type": "code",
   "execution_count": null,
   "id": "7886f7aa",
   "metadata": {},
   "outputs": [],
   "source": []
  }
 ],
 "metadata": {
  "kernelspec": {
   "display_name": "Python 3 (ipykernel)",
   "language": "python",
   "name": "python3"
  },
  "language_info": {
   "codemirror_mode": {
    "name": "ipython",
    "version": 3
   },
   "file_extension": ".py",
   "mimetype": "text/x-python",
   "name": "python",
   "nbconvert_exporter": "python",
   "pygments_lexer": "ipython3",
   "version": "3.9.13"
  }
 },
 "nbformat": 4,
 "nbformat_minor": 5
}
